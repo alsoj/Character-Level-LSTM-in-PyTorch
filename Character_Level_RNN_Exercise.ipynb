{
 "cells": [
  {
   "cell_type": "markdown",
   "metadata": {},
   "source": [
    "# Character-Level LSTM in PyTorch\n",
    "\n",
    "In this notebook, I'll construct a character-level LSTM with PyTorch. The network will train character by character on some text, then generate new text character by character. As an example, I will train on Anna Karenina. **This model will be able to generate new text based on the text from the book!**\n",
    "\n",
    "This network is based off of Andrej Karpathy's [post on RNNs](http://karpathy.github.io/2015/05/21/rnn-effectiveness/) and [implementation in Torch](https://github.com/karpathy/char-rnn). Below is the general architecture of the character-wise RNN.\n",
    "\n",
    "<img src=\"assets/charseq.jpeg\" width=\"500\">"
   ]
  },
  {
   "cell_type": "markdown",
   "metadata": {},
   "source": [
    "First let's load in our required resources for data loading and model creation."
   ]
  },
  {
   "cell_type": "code",
   "execution_count": 1,
   "metadata": {},
   "outputs": [],
   "source": [
    "import numpy as np\n",
    "import torch\n",
    "from torch import nn\n",
    "import torch.nn.functional as F"
   ]
  },
  {
   "cell_type": "markdown",
   "metadata": {},
   "source": [
    "## Load in Data\n",
    "\n",
    "Then, we'll load the Anna Karenina text file and convert it into integers for our network to use. "
   ]
  },
  {
   "cell_type": "code",
   "execution_count": 2,
   "metadata": {},
   "outputs": [],
   "source": [
    "# open text file and read in data as `text`\n",
    "with open('data/anna.txt', 'r') as f:\n",
    "    text = f.read()"
   ]
  },
  {
   "cell_type": "markdown",
   "metadata": {},
   "source": [
    "Let's check out the first 100 characters, make sure everything is peachy. According to the [American Book Review](http://americanbookreview.org/100bestlines.asp), this is the 6th best first line of a book ever."
   ]
  },
  {
   "cell_type": "code",
   "execution_count": 3,
   "metadata": {},
   "outputs": [
    {
     "data": {
      "text/plain": [
       "'Chapter 1\\n\\n\\nHappy families are all alike; every unhappy family is unhappy in its own\\nway.\\n\\nEverythin'"
      ]
     },
     "execution_count": 3,
     "metadata": {},
     "output_type": "execute_result"
    }
   ],
   "source": [
    "text[:100]"
   ]
  },
  {
   "cell_type": "markdown",
   "metadata": {},
   "source": [
    "### Tokenization\n",
    "\n",
    "In the cells, below, I'm creating a couple **dictionaries** to convert the characters to and from integers. Encoding the characters as integers makes it easier to use as input in the network."
   ]
  },
  {
   "cell_type": "code",
   "execution_count": 4,
   "metadata": {},
   "outputs": [
    {
     "name": "stdout",
     "output_type": "stream",
     "text": [
      "chars :::  ('O', ' ', 'b', 'e', 'S', 'B', '9', '/', '-', 't', 'l', 'j', 'm', 'k', 'x', 'f', 'd', 'g', 'D', 'R', 'w', 'Q', 'I', '7', '8', '\"', 'r', 'K', ')', \"'\", 'y', 'T', ':', 'U', '\\n', 'L', 'C', 'N', 'Z', 'E', 'q', 'W', 'A', 'G', 'H', 'X', '1', '5', 'i', '3', '%', '.', 'o', 'M', 'a', '(', '$', '&', 'v', 'h', 'P', 'p', '!', '6', '*', 'J', ';', '0', 'V', 'Y', 'u', 'F', 'n', 'z', '4', ',', '`', '_', '?', 'c', '@', '2', 's')\n",
      "int2char :::  {0: 'O', 1: ' ', 2: 'b', 3: 'e', 4: 'S', 5: 'B', 6: '9', 7: '/', 8: '-', 9: 't', 10: 'l', 11: 'j', 12: 'm', 13: 'k', 14: 'x', 15: 'f', 16: 'd', 17: 'g', 18: 'D', 19: 'R', 20: 'w', 21: 'Q', 22: 'I', 23: '7', 24: '8', 25: '\"', 26: 'r', 27: 'K', 28: ')', 29: \"'\", 30: 'y', 31: 'T', 32: ':', 33: 'U', 34: '\\n', 35: 'L', 36: 'C', 37: 'N', 38: 'Z', 39: 'E', 40: 'q', 41: 'W', 42: 'A', 43: 'G', 44: 'H', 45: 'X', 46: '1', 47: '5', 48: 'i', 49: '3', 50: '%', 51: '.', 52: 'o', 53: 'M', 54: 'a', 55: '(', 56: '$', 57: '&', 58: 'v', 59: 'h', 60: 'P', 61: 'p', 62: '!', 63: '6', 64: '*', 65: 'J', 66: ';', 67: '0', 68: 'V', 69: 'Y', 70: 'u', 71: 'F', 72: 'n', 73: 'z', 74: '4', 75: ',', 76: '`', 77: '_', 78: '?', 79: 'c', 80: '@', 81: '2', 82: 's'}\n",
      "char2int :::  {'O': 0, ' ': 1, 'b': 2, 'e': 3, 'S': 4, 'B': 5, '9': 6, '/': 7, '-': 8, 't': 9, 'l': 10, 'j': 11, 'm': 12, 'k': 13, 'x': 14, 'f': 15, 'd': 16, 'g': 17, 'D': 18, 'R': 19, 'w': 20, 'Q': 21, 'I': 22, '7': 23, '8': 24, '\"': 25, 'r': 26, 'K': 27, ')': 28, \"'\": 29, 'y': 30, 'T': 31, ':': 32, 'U': 33, '\\n': 34, 'L': 35, 'C': 36, 'N': 37, 'Z': 38, 'E': 39, 'q': 40, 'W': 41, 'A': 42, 'G': 43, 'H': 44, 'X': 45, '1': 46, '5': 47, 'i': 48, '3': 49, '%': 50, '.': 51, 'o': 52, 'M': 53, 'a': 54, '(': 55, '$': 56, '&': 57, 'v': 58, 'h': 59, 'P': 60, 'p': 61, '!': 62, '6': 63, '*': 64, 'J': 65, ';': 66, '0': 67, 'V': 68, 'Y': 69, 'u': 70, 'F': 71, 'n': 72, 'z': 73, '4': 74, ',': 75, '`': 76, '_': 77, '?': 78, 'c': 79, '@': 80, '2': 81, 's': 82}\n"
     ]
    }
   ],
   "source": [
    "# encode the text and map each character to an integer and vice versa\n",
    "\n",
    "# we create two dictionaries:\n",
    "# 1. int2char, which maps integers to characters\n",
    "# 2. char2int, which maps characters to unique integers\n",
    "chars = tuple(set(text))\n",
    "print(\"chars ::: \", chars)\n",
    "\n",
    "int2char = dict(enumerate(chars))\n",
    "print(\"int2char ::: \", int2char)\n",
    "\n",
    "char2int = {ch: ii for ii, ch in int2char.items()}\n",
    "print(\"char2int ::: \", char2int)\n",
    "\n",
    "\n",
    "# encode the text\n",
    "encoded = np.array([char2int[ch] for ch in text])"
   ]
  },
  {
   "cell_type": "markdown",
   "metadata": {},
   "source": [
    "And we can see those same characters from above, encoded as integers."
   ]
  },
  {
   "cell_type": "code",
   "execution_count": 5,
   "metadata": {},
   "outputs": [
    {
     "data": {
      "text/plain": [
       "array([36, 59, 54, 61,  9,  3, 26,  1, 46, 34, 34, 34, 44, 54, 61, 61, 30,\n",
       "        1, 15, 54, 12, 48, 10, 48,  3, 82,  1, 54, 26,  3,  1, 54, 10, 10,\n",
       "        1, 54, 10, 48, 13,  3, 66,  1,  3, 58,  3, 26, 30,  1, 70, 72, 59,\n",
       "       54, 61, 61, 30,  1, 15, 54, 12, 48, 10, 30,  1, 48, 82,  1, 70, 72,\n",
       "       59, 54, 61, 61, 30,  1, 48, 72,  1, 48,  9, 82,  1, 52, 20, 72, 34,\n",
       "       20, 54, 30, 51, 34, 34, 39, 58,  3, 26, 30,  9, 59, 48, 72])"
      ]
     },
     "execution_count": 5,
     "metadata": {},
     "output_type": "execute_result"
    }
   ],
   "source": [
    "encoded[:100]"
   ]
  },
  {
   "cell_type": "markdown",
   "metadata": {},
   "source": [
    "## Pre-processing the data\n",
    "\n",
    "As you can see in our char-RNN image above, our LSTM expects an input that is **one-hot encoded** meaning that each character is converted into an integer (via our created dictionary) and *then* converted into a column vector where only it's corresponding integer index will have the value of 1 and the rest of the vector will be filled with 0's. Since we're one-hot encoding the data, let's make a function to do that!\n"
   ]
  },
  {
   "cell_type": "code",
   "execution_count": 6,
   "metadata": {},
   "outputs": [],
   "source": [
    "# input : array, the number of labels\n",
    "# output : one hot encoded array\n",
    "def one_hot_encode(arr, n_labels):\n",
    "#     print(\"arr.shape before encoded ::: \", arr.shape)\n",
    "\n",
    "    # Initialize the the encoded array\n",
    "    one_hot = np.zeros((np.multiply(*arr.shape), n_labels), dtype=np.float32)\n",
    "    \n",
    "    # Fill the appropriate elements with ones\n",
    "    one_hot[np.arange(one_hot.shape[0]), arr.flatten()] = 1.\n",
    "    \n",
    "    # Finally reshape it to get back to the original array\n",
    "    one_hot = one_hot.reshape((*arr.shape, n_labels))\n",
    "        \n",
    "#     print(\"one_hot.shape after encoded ::: \", one_hot.shape)\n",
    "        \n",
    "    return one_hot"
   ]
  },
  {
   "cell_type": "code",
   "execution_count": 7,
   "metadata": {},
   "outputs": [],
   "source": [
    "# check that the function works as expected\n",
    "test_seq = np.array([[3, 5, 1]])\n",
    "one_hot = one_hot_encode(test_seq, 8)"
   ]
  },
  {
   "cell_type": "markdown",
   "metadata": {},
   "source": [
    "## Making training mini-batches\n",
    "\n",
    "\n",
    "To train on this data, we also want to create mini-batches for training. Remember that we want our batches to be multiple sequences of some desired number of sequence steps. Considering a simple example, our batches would look like this:\n",
    "\n",
    "<img src=\"assets/sequence_batching@1x.png\" width=500px>\n",
    "\n",
    "\n",
    "<br>\n",
    "\n",
    "In this example, we'll take the encoded characters (passed in as the `arr` parameter) and split them into multiple sequences, given by `batch_size`. Each of our sequences will be `seq_length` long.\n",
    "\n",
    "### Creating Batches\n",
    "\n",
    "**1. The first thing we need to do is discard some of the text so we only have completely full mini-batches. **\n",
    "\n",
    "Each batch contains $N \\times M$ characters, where $N$ is the batch size (the number of sequences in a batch) and $M$ is the seq_length or number of time steps in a sequence. Then, to get the total number of batches, $K$, that we can make from the array `arr`, you divide the length of `arr` by the number of characters per batch. Once you know the number of batches, you can get the total number of characters to keep from `arr`, $N * M * K$.\n",
    "\n",
    "**2. After that, we need to split `arr` into $N$ batches. ** \n",
    "\n",
    "You can do this using `arr.reshape(size)` where `size` is a tuple containing the dimensions sizes of the reshaped array. We know we want $N$ sequences in a batch, so let's make that the size of the first dimension. For the second dimension, you can use `-1` as a placeholder in the size, it'll fill up the array with the appropriate data for you. After this, you should have an array that is $N \\times (M * K)$.\n",
    "\n",
    "**3. Now that we have this array, we can iterate through it to get our mini-batches. **\n",
    "\n",
    "The idea is each batch is a $N \\times M$ window on the $N \\times (M * K)$ array. For each subsequent batch, the window moves over by `seq_length`. We also want to create both the input and target arrays. Remember that the targets are just the inputs shifted over by one character. The way I like to do this window is use `range` to take steps of size `n_steps` from $0$ to `arr.shape[1]`, the total number of tokens in each sequence. That way, the integers you get from `range` always point to the start of a batch, and each window is `seq_length` wide.\n",
    "\n",
    "> **TODO:** Write the code for creating batches in the function below. The exercises in this notebook _will not be easy_. I've provided a notebook with solutions alongside this notebook. If you get stuck, checkout the solutions. The most important thing is that you don't copy and paste the code into here, **type out the solution code yourself.**"
   ]
  },
  {
   "cell_type": "code",
   "execution_count": 8,
   "metadata": {},
   "outputs": [],
   "source": [
    "def get_batches(arr, batch_size, seq_length):\n",
    "    '''Create a generator that returns batches of size\n",
    "       batch_size x seq_length from arr.\n",
    "       \n",
    "       Arguments\n",
    "       ---------\n",
    "       arr: Array you want to make batches from\n",
    "       batch_size: Batch size, the number of sequences per batch\n",
    "       seq_length: Number of encoded chars in a sequence\n",
    "    '''\n",
    "    ## TODO: Get the number of batches we can make\n",
    "    n_batches = len(arr)//(batch_size * seq_length) # '//' operation : get the integer result of division\n",
    "    \n",
    "    ## TODO: Keep only enough characters to make full batches\n",
    "    arr = arr[:batch_size * seq_length * n_batches]\n",
    "\n",
    "    ## TODO: Reshape into batch_size rows\n",
    "    arr = arr.reshape((batch_size, -1))\n",
    "\n",
    "#     print(\"arr ::: \", arr)\n",
    "#     print(\"arr.shape ::: \", arr.shape)\n",
    "#     print(\"arr.shape[1] :::: \", arr.shape[1])\n",
    "    \n",
    "    ## TODO: Iterate over the batches using a window of size seq_length\n",
    "#     for n in range(0, arr.shape[1], seq_length):    # range([start,] stop [,step])\n",
    "#         # The features\n",
    "#         x = arr[:,n:n+seq_length]\n",
    "\n",
    "#         # The targets, shifted by one\n",
    "#         y = arr[:, n+1:n+1+seq_length]\n",
    "        \n",
    "#         yield x, y  \n",
    "    \n",
    "#     # Solution    \n",
    "#     batch_size_total = batch_size * seq_length\n",
    "#     # total number of batches we can make\n",
    "#     n_batches = len(arr)//batch_size_total\n",
    "    \n",
    "#     # Keep only enough characters to make full batches\n",
    "#     arr = arr[:n_batches * batch_size_total]\n",
    "#     # Reshape into batch_size rows\n",
    "#     arr = arr.reshape((batch_size, -1))\n",
    "    \n",
    "#     # iterate through the array, one sequence at a time\n",
    "    for n in range(0, arr.shape[1], seq_length):\n",
    "        # The features\n",
    "        x = arr[:, n:n+seq_length]\n",
    "        # The targets, shifted by one\n",
    "        y = np.zeros_like(x)\n",
    "        try:\n",
    "            y[:, :-1], y[:, -1] = x[:, 1:], arr[:, n+seq_length]\n",
    "        except IndexError:\n",
    "            y[:, :-1], y[:, -1] = x[:, 1:], arr[:, 0]\n",
    "        yield x, y"
   ]
  },
  {
   "cell_type": "markdown",
   "metadata": {},
   "source": [
    "### Test Your Implementation\n",
    "\n",
    "Now I'll make some data sets and we can check out what's going on as we batch data. Here, as an example, I'm going to use a batch size of 8 and 50 sequence steps."
   ]
  },
  {
   "cell_type": "code",
   "execution_count": 9,
   "metadata": {},
   "outputs": [],
   "source": [
    "batches = get_batches(encoded, 8, 50)\n",
    "x, y = next(batches)"
   ]
  },
  {
   "cell_type": "code",
   "execution_count": 10,
   "metadata": {},
   "outputs": [
    {
     "name": "stdout",
     "output_type": "stream",
     "text": [
      "x\n",
      " [[36 59 54 61  9  3 26  1 46 34]\n",
      " [82 52 72  1  9 59 54  9  1 54]\n",
      " [ 3 72 16  1 52 26  1 54  1 15]\n",
      " [82  1  9 59  3  1 79 59 48  3]\n",
      " [ 1 82 54 20  1 59  3 26  1  9]\n",
      " [79 70 82 82 48 52 72  1 54 72]\n",
      " [ 1 42 72 72 54  1 59 54 16  1]\n",
      " [ 0  2 10 52 72 82 13 30 51  1]]\n",
      "\n",
      "y\n",
      " [[59 54 61  9  3 26  1 46 34 34]\n",
      " [52 72  1  9 59 54  9  1 54  9]\n",
      " [72 16  1 52 26  1 54  1 15 52]\n",
      " [ 1  9 59  3  1 79 59 48  3 15]\n",
      " [82 54 20  1 59  3 26  1  9  3]\n",
      " [70 82 82 48 52 72  1 54 72 16]\n",
      " [42 72 72 54  1 59 54 16  1 82]\n",
      " [ 2 10 52 72 82 13 30 51  1 25]]\n"
     ]
    }
   ],
   "source": [
    "# printing out the first 10 items in a sequence\n",
    "print('x\\n', x[:10, :10])\n",
    "print('\\ny\\n', y[:10, :10])"
   ]
  },
  {
   "cell_type": "markdown",
   "metadata": {},
   "source": [
    "If you implemented `get_batches` correctly, the above output should look something like \n",
    "```\n",
    "x\n",
    " [[25  8 60 11 45 27 28 73  1  2]\n",
    " [17  7 20 73 45  8 60 45 73 60]\n",
    " [27 20 80 73  7 28 73 60 73 65]\n",
    " [17 73 45  8 27 73 66  8 46 27]\n",
    " [73 17 60 12 73  8 27 28 73 45]\n",
    " [66 64 17 17 46  7 20 73 60 20]\n",
    " [73 76 20 20 60 73  8 60 80 73]\n",
    " [47 35 43  7 20 17 24 50 37 73]]\n",
    "\n",
    "y\n",
    " [[ 8 60 11 45 27 28 73  1  2  2]\n",
    " [ 7 20 73 45  8 60 45 73 60 45]\n",
    " [20 80 73  7 28 73 60 73 65  7]\n",
    " [73 45  8 27 73 66  8 46 27 65]\n",
    " [17 60 12 73  8 27 28 73 45 27]\n",
    " [64 17 17 46  7 20 73 60 20 80]\n",
    " [76 20 20 60 73  8 60 80 73 17]\n",
    " [35 43  7 20 17 24 50 37 73 36]]\n",
    " ```\n",
    " although the exact numbers may be different. Check to make sure the data is shifted over one step for `y`."
   ]
  },
  {
   "cell_type": "markdown",
   "metadata": {},
   "source": [
    "---\n",
    "## Defining the network with PyTorch\n",
    "\n",
    "Below is where you'll define the network.\n",
    "\n",
    "<img src=\"assets/charRNN.png\" width=500px>\n",
    "\n",
    "Next, you'll use PyTorch to define the architecture of the network. We start by defining the layers and operations we want. Then, define a method for the forward pass. You've also been given a method for predicting characters."
   ]
  },
  {
   "cell_type": "markdown",
   "metadata": {},
   "source": [
    "### Model Structure\n",
    "\n",
    "In `__init__` the suggested structure is as follows:\n",
    "* Create and store the necessary dictionaries (this has been done for you)\n",
    "* Define an LSTM layer that takes as params: an input size (the number of characters), a hidden layer size `n_hidden`, a number of layers `n_layers`, a dropout probability `drop_prob`, and a batch_first boolean (True, since we are batching)\n",
    "* Define a dropout layer with `dropout_prob`\n",
    "* Define a fully-connected layer with params: input size `n_hidden` and output size (the number of characters)\n",
    "* Finally, initialize the weights (again, this has been given)\n",
    "\n",
    "Note that some parameters have been named and given in the `__init__` function, and we use them and store them by doing something like `self.drop_prob = drop_prob`."
   ]
  },
  {
   "cell_type": "markdown",
   "metadata": {},
   "source": [
    "---\n",
    "### LSTM Inputs/Outputs\n",
    "\n",
    "You can create a basic [LSTM layer](https://pytorch.org/docs/stable/nn.html#lstm) as follows\n",
    "\n",
    "```python\n",
    "self.lstm = nn.LSTM(input_size, n_hidden, n_layers, \n",
    "                            dropout=drop_prob, batch_first=True)\n",
    "```\n",
    "\n",
    "where `input_size` is the number of characters this cell expects to see as sequential input, and `n_hidden` is the number of units in the hidden layers in the cell. And we can add dropout by adding a dropout parameter with a specified probability; this will automatically add dropout to the inputs or outputs. Finally, in the `forward` function, we can stack up the LSTM cells into layers using `.view`. With this, you pass in a list of cells and it will send the output of one cell into the next cell.\n",
    "\n",
    "We also need to create an initial hidden state of all zeros. This is done like so\n",
    "\n",
    "```python\n",
    "self.init_hidden()\n",
    "```"
   ]
  },
  {
   "cell_type": "code",
   "execution_count": 11,
   "metadata": {},
   "outputs": [
    {
     "name": "stdout",
     "output_type": "stream",
     "text": [
      "Training on GPU!\n"
     ]
    }
   ],
   "source": [
    "# check if GPU is available\n",
    "train_on_gpu = torch.cuda.is_available()\n",
    "if(train_on_gpu):\n",
    "    print('Training on GPU!')\n",
    "else: \n",
    "    print('No GPU available, training on CPU; consider making n_epochs very small.')"
   ]
  },
  {
   "cell_type": "code",
   "execution_count": 20,
   "metadata": {},
   "outputs": [
    {
     "name": "stdout",
     "output_type": "stream",
     "text": [
      "FINISH\n"
     ]
    }
   ],
   "source": [
    "class CharRNN(nn.Module):\n",
    "    \n",
    "    def __init__(self, tokens, n_hidden=256, n_layers=2,\n",
    "                               drop_prob=0.5, lr=0.001):\n",
    "\n",
    "        '''\n",
    "        Create and store the necessary dictionaries (this has been done for you)\n",
    "        Define an LSTM layer that takes as params: an input size (the number of characters), \n",
    "        a hidden layer size n_hidden, a number of layers n_layers, a dropout probability drop_prob, \n",
    "        and a batch_first boolean (True, since we are batching)\n",
    "        Define a dropout layer with dropout_prob\n",
    "        Define a fully-connected layer with params: input size n_hidden and output size (the number of characters)\n",
    "        Finally, initialize the weights (again, this has been given)\n",
    "        Note that some parameters have been named and given in the __init__ function, and we use them and store them \n",
    "        by doing something like self.drop_prob = drop_prob.\n",
    "        '''\n",
    "        \n",
    "        super().__init__()\n",
    "        self.drop_prob = drop_prob\n",
    "        self.n_layers = n_layers\n",
    "        self.n_hidden = n_hidden\n",
    "        self.lr = lr\n",
    "        \n",
    "        # creating character dictionaries\n",
    "        self.chars = tokens\n",
    "        self.int2char = dict(enumerate(self.chars))\n",
    "        self.char2int = {ch: ii for ii, ch in self.int2char.items()}\n",
    "        \n",
    "        \n",
    "        ## TODO: define the layers of the model\n",
    "#         self.lstm = nn.LSTM(len(chars), self.n_hidden, self.n_layers, dropout=self.drop_prob, batch_first=True)\n",
    "        self.lstm = nn.LSTM(len(chars), n_hidden, n_layers, dropout=drop_prob, batch_first=True)\n",
    "        self.dropout = nn.Dropout(self.drop_prob)\n",
    "        self.fc = nn.Linear(n_hidden,len(chars))\n",
    "        \n",
    "    def forward(self, x, hidden):\n",
    "        ''' Forward pass through the network. \n",
    "            These inputs are x, and the hidden/cell state `hidden`. '''\n",
    "        \n",
    "#         print(\"x ::: \", x.shape)    # torch.Size([10, 50, 83])   batch_size, sequence_len, features\n",
    "#         print(\"hidden ::: \", hidden)\n",
    "        ## TODO: Get the outputs and the new hidden state from the lstm\n",
    "#         print(\"input before lstm ::: \", x[:10])\n",
    "        \n",
    "        out, hidden = self.lstm(x, hidden)\n",
    "    \n",
    "#         print(\"output after lstm ::: \", out[:10])\n",
    "        \n",
    "#         print(\"out.shape ::: \", out.shape)    # torch.Size([10, 50, 256])\n",
    "\n",
    "        out = out.contiguous()\n",
    "        out = out.view(-1, self.n_hidden)\n",
    "        out = self.dropout(out)\n",
    "        out = self.fc(out)\n",
    "#         print(out.shape)\n",
    "\n",
    "        # return the final output and the hidden state\n",
    "        return out, hidden\n",
    "    \n",
    "    \n",
    "    def init_hidden(self, batch_size):\n",
    "        ''' Initializes hidden state '''\n",
    "        # Create two new tensors with sizes n_layers x batch_size x n_hidden,\n",
    "        # initialized to zero, for hidden state and cell state of LSTM\n",
    "        weight = next(self.parameters()).data\n",
    "        \n",
    "        if (train_on_gpu):\n",
    "            hidden = (weight.new(self.n_layers, batch_size, self.n_hidden).zero_().cuda(),\n",
    "                  weight.new(self.n_layers, batch_size, self.n_hidden).zero_().cuda())\n",
    "        else:\n",
    "            hidden = (weight.new(self.n_layers, batch_size, self.n_hidden).zero_(),\n",
    "                      weight.new(self.n_layers, batch_size, self.n_hidden).zero_())\n",
    "        \n",
    "        return hidden\n",
    "        \n",
    "print(\"FINISH\")"
   ]
  },
  {
   "cell_type": "markdown",
   "metadata": {},
   "source": [
    "## Time to train\n",
    "\n",
    "The train function gives us the ability to set the number of epochs, the learning rate, and other parameters.\n",
    "\n",
    "Below we're using an Adam optimizer and cross entropy loss since we are looking at character class scores as output. We calculate the loss and perform backpropagation, as usual!\n",
    "\n",
    "A couple of details about training: \n",
    ">* Within the batch loop, we detach the hidden state from its history; this time setting it equal to a new *tuple* variable because an LSTM has a hidden state that is a tuple of the hidden and cell states.\n",
    "* We use [`clip_grad_norm_`](https://pytorch.org/docs/stable/_modules/torch/nn/utils/clip_grad.html) to help prevent exploding gradients."
   ]
  },
  {
   "cell_type": "code",
   "execution_count": 21,
   "metadata": {},
   "outputs": [],
   "source": [
    "def train(net, data, epochs=10, batch_size=10, seq_length=50, lr=0.001, clip=5, val_frac=0.1, print_every=10):\n",
    "    ''' Training a network \n",
    "    \n",
    "        Arguments\n",
    "        ---------\n",
    "        \n",
    "        net: CharRNN network\n",
    "        data: text data to train the network\n",
    "        epochs: Number of epochs to train\n",
    "        batch_size: Number of mini-sequences per mini-batch, aka batch size\n",
    "        seq_length: Number of character steps per mini-batch\n",
    "        lr: learning rate\n",
    "        clip: gradient clipping\n",
    "        val_frac: Fraction of data to hold out for validation\n",
    "        print_every: Number of steps for printing training and validation loss\n",
    "    \n",
    "    '''\n",
    "    net.train()\n",
    "    \n",
    "    opt = torch.optim.Adam(net.parameters(), lr=lr)\n",
    "    criterion = nn.CrossEntropyLoss()\n",
    "    \n",
    "    # create training and validation data\n",
    "    val_idx = int(len(data)*(1-val_frac))\n",
    "    data, val_data = data[:val_idx], data[val_idx:]\n",
    "    \n",
    "    if(train_on_gpu):\n",
    "        net.cuda()\n",
    "    \n",
    "    counter = 0\n",
    "    n_chars = len(net.chars)\n",
    "    for e in range(epochs):\n",
    "        # initialize hidden state\n",
    "        h = net.init_hidden(batch_size)\n",
    "        \n",
    "        for x, y in get_batches(data, batch_size, seq_length):\n",
    "            counter += 1\n",
    "            \n",
    "            # One-hot encode our data and make them Torch tensors\n",
    "            x = one_hot_encode(x, n_chars)\n",
    "            inputs, targets = torch.from_numpy(x), torch.from_numpy(y)\n",
    "            \n",
    "            if(train_on_gpu):\n",
    "                inputs, targets = inputs.cuda(), targets.cuda()\n",
    "\n",
    "            # Creating new variables for the hidden state, otherwise\n",
    "            # we'd backprop through the entire training history\n",
    "            h = tuple([each.data for each in h])\n",
    "\n",
    "            # zero accumulated gradients\n",
    "            net.zero_grad()\n",
    "            \n",
    "            # get the output from the model\n",
    "            output, h = net(inputs, h)\n",
    "            \n",
    "#             print(\"output.shape ::: \", output.shape)\n",
    "#             print(\"targets.shape ::: \", targets.shape)\n",
    "#             print(\"batch_size ::: \", batch_size)\n",
    "#             print(\"seq_length ::: \", seq_length)\n",
    "            \n",
    "            # contiguous()\n",
    "            targets = targets.contiguous()\n",
    "            \n",
    "            # calculate the loss and perform backprop\n",
    "            loss = criterion(output, targets.view(batch_size*seq_length))\n",
    "            loss.backward()\n",
    "            # `clip_grad_norm` helps prevent the exploding gradient problem in RNNs / LSTMs.\n",
    "            nn.utils.clip_grad_norm_(net.parameters(), clip)\n",
    "            opt.step()\n",
    "            \n",
    "            # loss stats\n",
    "            if counter % print_every == 0:\n",
    "                # Get validation loss\n",
    "                val_h = net.init_hidden(batch_size)\n",
    "                val_losses = []\n",
    "                net.eval()\n",
    "                for x, y in get_batches(val_data, batch_size, seq_length):\n",
    "                    # One-hot encode our data and make them Torch tensors\n",
    "                    x = one_hot_encode(x, n_chars)\n",
    "                    x, y = torch.from_numpy(x), torch.from_numpy(y)\n",
    "                    \n",
    "                    # Creating new variables for the hidden state, otherwise\n",
    "                    # we'd backprop through the entire training history\n",
    "                    val_h = tuple([each.data for each in val_h])\n",
    "                    \n",
    "                    inputs, targets = x, y\n",
    "                    if(train_on_gpu):\n",
    "                        inputs, targets = inputs.cuda(), targets.cuda()\n",
    "\n",
    "                    output, val_h = net(inputs, val_h)\n",
    "                    \n",
    "                    #targets\n",
    "                    targets = targets.contiguous()\n",
    "                    \n",
    "#                     print(\"output.shape ::: \", output.shape)\n",
    "#                     print(\"targets.shape ::: \", targets.shape)\n",
    "#                     print(\"batch_size ::: \", batch_size)\n",
    "#                     print(\"seq_length ::: \", seq_length)\n",
    "                    \n",
    "                    val_loss = criterion(output, targets.view(batch_size*seq_length))\n",
    "                \n",
    "                    val_losses.append(val_loss.item())\n",
    "                \n",
    "                net.train() # reset to train mode after iterationg through validation data\n",
    "                \n",
    "                print(\"Epoch: {}/{}...\".format(e+1, epochs),\n",
    "                      \"Step: {}...\".format(counter),\n",
    "                      \"Loss: {:.4f}...\".format(loss.item()),\n",
    "                      \"Val Loss: {:.4f}\".format(np.mean(val_losses)))"
   ]
  },
  {
   "cell_type": "markdown",
   "metadata": {},
   "source": [
    "## Instantiating the model\n",
    "\n",
    "Now we can actually train the network. First we'll create the network itself, with some given hyperparameters. Then, define the mini-batches sizes, and start training!"
   ]
  },
  {
   "cell_type": "code",
   "execution_count": 22,
   "metadata": {},
   "outputs": [
    {
     "name": "stdout",
     "output_type": "stream",
     "text": [
      "CharRNN(\n",
      "  (lstm): LSTM(83, 256, num_layers=2, batch_first=True, dropout=0.5)\n",
      "  (dropout): Dropout(p=0.5)\n",
      "  (fc): Linear(in_features=256, out_features=83, bias=True)\n",
      ")\n"
     ]
    }
   ],
   "source": [
    "## TODO: set you model hyperparameters\n",
    "# define and print the net\n",
    "n_hidden=256\n",
    "n_layers=2\n",
    "\n",
    "net = CharRNN(chars, n_hidden, n_layers)\n",
    "print(net)"
   ]
  },
  {
   "cell_type": "code",
   "execution_count": 23,
   "metadata": {},
   "outputs": [
    {
     "name": "stdout",
     "output_type": "stream",
     "text": [
      "torch.Size([10, 50, 256])\n",
      "torch.Size([500, 256])\n"
     ]
    }
   ],
   "source": [
    "x = torch.randn(10, 50, 256)\n",
    "print(x.size())\n",
    "x = x.view(-1, 256)\n",
    "print(x.size())\n",
    "# z = x.view(-1, 8)  # the size -1 is inferred from other dimensions\n",
    "# print(z.size())\n",
    "\n",
    "# out.size() :::  torch.Size([10, 50, 256])"
   ]
  },
  {
   "cell_type": "markdown",
   "metadata": {},
   "source": [
    "### Set your training hyperparameters!"
   ]
  },
  {
   "cell_type": "code",
   "execution_count": 24,
   "metadata": {
    "scrolled": true
   },
   "outputs": [
    {
     "name": "stdout",
     "output_type": "stream",
     "text": [
      "Epoch: 1/2... Step: 100... Loss: 3.0694... Val Loss: 3.1331\n",
      "Epoch: 1/2... Step: 200... Loss: 3.0626... Val Loss: 3.0842\n",
      "Epoch: 1/2... Step: 300... Loss: 2.8328... Val Loss: 2.7794\n",
      "Epoch: 1/2... Step: 400... Loss: 2.4704... Val Loss: 2.5603\n",
      "Epoch: 1/2... Step: 500... Loss: 2.5712... Val Loss: 2.4555\n",
      "Epoch: 1/2... Step: 600... Loss: 2.4794... Val Loss: 2.3923\n",
      "Epoch: 1/2... Step: 700... Loss: 2.3099... Val Loss: 2.3506\n",
      "Epoch: 1/2... Step: 800... Loss: 2.3389... Val Loss: 2.2922\n",
      "Epoch: 1/2... Step: 900... Loss: 2.3336... Val Loss: 2.2462\n",
      "Epoch: 1/2... Step: 1000... Loss: 2.2866... Val Loss: 2.2034\n",
      "Epoch: 1/2... Step: 1100... Loss: 2.1263... Val Loss: 2.1647\n",
      "Epoch: 1/2... Step: 1200... Loss: 2.1491... Val Loss: 2.1266\n",
      "Epoch: 1/2... Step: 1300... Loss: 2.0076... Val Loss: 2.1028\n",
      "Epoch: 1/2... Step: 1400... Loss: 1.9644... Val Loss: 2.0688\n",
      "Epoch: 1/2... Step: 1500... Loss: 2.1693... Val Loss: 2.0456\n",
      "Epoch: 1/2... Step: 1600... Loss: 2.0761... Val Loss: 2.0159\n",
      "Epoch: 1/2... Step: 1700... Loss: 1.9899... Val Loss: 1.9918\n",
      "Epoch: 1/2... Step: 1800... Loss: 2.0077... Val Loss: 1.9585\n",
      "Epoch: 1/2... Step: 1900... Loss: 1.8563... Val Loss: 1.9287\n",
      "Epoch: 1/2... Step: 2000... Loss: 1.9892... Val Loss: 1.9094\n",
      "Epoch: 1/2... Step: 2100... Loss: 1.9370... Val Loss: 1.8883\n",
      "Epoch: 1/2... Step: 2200... Loss: 1.9692... Val Loss: 1.8745\n",
      "Epoch: 1/2... Step: 2300... Loss: 1.8893... Val Loss: 1.8544\n",
      "Epoch: 1/2... Step: 2400... Loss: 1.8068... Val Loss: 1.8345\n",
      "Epoch: 1/2... Step: 2500... Loss: 1.8764... Val Loss: 1.8199\n",
      "Epoch: 1/2... Step: 2600... Loss: 1.7193... Val Loss: 1.8087\n",
      "Epoch: 1/2... Step: 2700... Loss: 1.8030... Val Loss: 1.7934\n",
      "Epoch: 1/2... Step: 2800... Loss: 1.7833... Val Loss: 1.7763\n",
      "Epoch: 1/2... Step: 2900... Loss: 1.8064... Val Loss: 1.7648\n",
      "Epoch: 1/2... Step: 3000... Loss: 1.7605... Val Loss: 1.7538\n",
      "Epoch: 1/2... Step: 3100... Loss: 1.7104... Val Loss: 1.7438\n",
      "Epoch: 1/2... Step: 3200... Loss: 1.5408... Val Loss: 1.7341\n",
      "Epoch: 1/2... Step: 3300... Loss: 1.6395... Val Loss: 1.7175\n",
      "Epoch: 1/2... Step: 3400... Loss: 1.7917... Val Loss: 1.7110\n",
      "Epoch: 1/2... Step: 3500... Loss: 1.6080... Val Loss: 1.7045\n",
      "Epoch: 2/2... Step: 3600... Loss: 1.5425... Val Loss: 1.6917\n",
      "Epoch: 2/2... Step: 3700... Loss: 1.8568... Val Loss: 1.6857\n",
      "Epoch: 2/2... Step: 3800... Loss: 1.8093... Val Loss: 1.6707\n",
      "Epoch: 2/2... Step: 3900... Loss: 1.8014... Val Loss: 1.6695\n",
      "Epoch: 2/2... Step: 4000... Loss: 1.6683... Val Loss: 1.6646\n",
      "Epoch: 2/2... Step: 4100... Loss: 1.6730... Val Loss: 1.6552\n",
      "Epoch: 2/2... Step: 4200... Loss: 1.7425... Val Loss: 1.6465\n",
      "Epoch: 2/2... Step: 4300... Loss: 1.7452... Val Loss: 1.6380\n",
      "Epoch: 2/2... Step: 4400... Loss: 1.6980... Val Loss: 1.6359\n",
      "Epoch: 2/2... Step: 4500... Loss: 1.6699... Val Loss: 1.6368\n",
      "Epoch: 2/2... Step: 4600... Loss: 1.5964... Val Loss: 1.6245\n",
      "Epoch: 2/2... Step: 4700... Loss: 1.5826... Val Loss: 1.6151\n",
      "Epoch: 2/2... Step: 4800... Loss: 1.5661... Val Loss: 1.6106\n",
      "Epoch: 2/2... Step: 4900... Loss: 1.7211... Val Loss: 1.6135\n",
      "Epoch: 2/2... Step: 5000... Loss: 1.5002... Val Loss: 1.6005\n",
      "Epoch: 2/2... Step: 5100... Loss: 1.5642... Val Loss: 1.5976\n",
      "Epoch: 2/2... Step: 5200... Loss: 1.4860... Val Loss: 1.5952\n",
      "Epoch: 2/2... Step: 5300... Loss: 1.5593... Val Loss: 1.5922\n",
      "Epoch: 2/2... Step: 5400... Loss: 1.5879... Val Loss: 1.5857\n",
      "Epoch: 2/2... Step: 5500... Loss: 1.6966... Val Loss: 1.5851\n",
      "Epoch: 2/2... Step: 5600... Loss: 1.4897... Val Loss: 1.5761\n",
      "Epoch: 2/2... Step: 5700... Loss: 1.5122... Val Loss: 1.5700\n",
      "Epoch: 2/2... Step: 5800... Loss: 1.5834... Val Loss: 1.5748\n",
      "Epoch: 2/2... Step: 5900... Loss: 1.5868... Val Loss: 1.5679\n",
      "Epoch: 2/2... Step: 6000... Loss: 1.3296... Val Loss: 1.5691\n",
      "Epoch: 2/2... Step: 6100... Loss: 1.6683... Val Loss: 1.5627\n",
      "Epoch: 2/2... Step: 6200... Loss: 1.5526... Val Loss: 1.5532\n",
      "Epoch: 2/2... Step: 6300... Loss: 1.5114... Val Loss: 1.5600\n",
      "Epoch: 2/2... Step: 6400... Loss: 1.4259... Val Loss: 1.5521\n",
      "Epoch: 2/2... Step: 6500... Loss: 1.4140... Val Loss: 1.5510\n",
      "Epoch: 2/2... Step: 6600... Loss: 1.5976... Val Loss: 1.5489\n",
      "Epoch: 2/2... Step: 6700... Loss: 1.5371... Val Loss: 1.5446\n",
      "Epoch: 2/2... Step: 6800... Loss: 1.5004... Val Loss: 1.5417\n",
      "Epoch: 2/2... Step: 6900... Loss: 1.5411... Val Loss: 1.5446\n",
      "Epoch: 2/2... Step: 7000... Loss: 1.4177... Val Loss: 1.5363\n",
      "Epoch: 2/2... Step: 7100... Loss: 1.6864... Val Loss: 1.5340\n"
     ]
    }
   ],
   "source": [
    "batch_size = 10\n",
    "seq_length = 50\n",
    "n_epochs = 2 # start small if you are just testing initial behavior\n",
    "\n",
    "# train the model\n",
    "train(net, encoded, epochs=n_epochs, batch_size=batch_size, seq_length=seq_length, lr=0.001, print_every=100)"
   ]
  },
  {
   "cell_type": "markdown",
   "metadata": {},
   "source": [
    "## Getting the best model\n",
    "\n",
    "To set your hyperparameters to get the best performance, you'll want to watch the training and validation losses. If your training loss is much lower than the validation loss, you're overfitting. Increase regularization (more dropout) or use a smaller network. If the training and validation losses are close, you're underfitting so you can increase the size of the network."
   ]
  },
  {
   "cell_type": "markdown",
   "metadata": {},
   "source": [
    "## Hyperparameters\n",
    "\n",
    "Here are the hyperparameters for the network.\n",
    "\n",
    "In defining the model:\n",
    "* `n_hidden` - The number of units in the hidden layers.\n",
    "* `n_layers` - Number of hidden LSTM layers to use.\n",
    "\n",
    "We assume that dropout probability and learning rate will be kept at the default, in this example.\n",
    "\n",
    "And in training:\n",
    "* `batch_size` - Number of sequences running through the network in one pass.\n",
    "* `seq_length` - Number of characters in the sequence the network is trained on. Larger is better typically, the network will learn more long range dependencies. But it takes longer to train. 100 is typically a good number here.\n",
    "* `lr` - Learning rate for training\n",
    "\n",
    "Here's some good advice from Andrej Karpathy on training the network. I'm going to copy it in here for your benefit, but also link to [where it originally came from](https://github.com/karpathy/char-rnn#tips-and-tricks).\n",
    "\n",
    "> ## Tips and Tricks\n",
    "\n",
    ">### Monitoring Validation Loss vs. Training Loss\n",
    ">If you're somewhat new to Machine Learning or Neural Networks it can take a bit of expertise to get good models. The most important quantity to keep track of is the difference between your training loss (printed during training) and the validation loss (printed once in a while when the RNN is run on the validation data (by default every 1000 iterations)). In particular:\n",
    "\n",
    "> - If your training loss is much lower than validation loss then this means the network might be **overfitting**. Solutions to this are to decrease your network size, or to increase dropout. For example you could try dropout of 0.5 and so on.\n",
    "> - If your training/validation loss are about equal then your model is **underfitting**. Increase the size of your model (either number of layers or the raw number of neurons per layer)\n",
    "\n",
    "> ### Approximate number of parameters\n",
    "\n",
    "> The two most important parameters that control the model are `n_hidden` and `n_layers`. I would advise that you always use `n_layers` of either 2/3. The `n_hidden` can be adjusted based on how much data you have. The two important quantities to keep track of here are:\n",
    "\n",
    "> - The number of parameters in your model. This is printed when you start training.\n",
    "> - The size of your dataset. 1MB file is approximately 1 million characters.\n",
    "\n",
    ">These two should be about the same order of magnitude. It's a little tricky to tell. Here are some examples:\n",
    "\n",
    "> - I have a 100MB dataset and I'm using the default parameter settings (which currently print 150K parameters). My data size is significantly larger (100 mil >> 0.15 mil), so I expect to heavily underfit. I am thinking I can comfortably afford to make `n_hidden` larger.\n",
    "> - I have a 10MB dataset and running a 10 million parameter model. I'm slightly nervous and I'm carefully monitoring my validation loss. If it's larger than my training loss then I may want to try to increase dropout a bit and see if that helps the validation loss.\n",
    "\n",
    "> ### Best models strategy\n",
    "\n",
    ">The winning strategy to obtaining very good models (if you have the compute time) is to always err on making the network larger (as large as you're willing to wait for it to compute) and then try different dropout values (between 0,1). Whatever model has the best validation performance (the loss, written in the checkpoint filename, low is good) is the one you should use in the end.\n",
    "\n",
    ">It is very common in deep learning to run many different models with many different hyperparameter settings, and in the end take whatever checkpoint gave the best validation performance.\n",
    "\n",
    ">By the way, the size of your training and validation splits are also parameters. Make sure you have a decent amount of data in your validation set or otherwise the validation performance will be noisy and not very informative."
   ]
  },
  {
   "cell_type": "markdown",
   "metadata": {},
   "source": [
    "## Checkpoint\n",
    "\n",
    "After training, we'll save the model so we can load it again later if we need too. Here I'm saving the parameters needed to create the same architecture, the hidden layer hyperparameters and the text characters."
   ]
  },
  {
   "cell_type": "code",
   "execution_count": 25,
   "metadata": {},
   "outputs": [],
   "source": [
    "# change the name, for saving multiple files\n",
    "model_name = 'rnn_x_epoch.net'\n",
    "\n",
    "checkpoint = {'n_hidden': net.n_hidden,\n",
    "              'n_layers': net.n_layers,\n",
    "              'state_dict': net.state_dict(),\n",
    "              'tokens': net.chars}\n",
    "\n",
    "with open(model_name, 'wb') as f:\n",
    "    torch.save(checkpoint, f)"
   ]
  },
  {
   "cell_type": "markdown",
   "metadata": {},
   "source": [
    "---\n",
    "## Making Predictions\n",
    "\n",
    "Now that the model is trained, we'll want to sample from it and make predictions about next characters! To sample, we pass in a character and have the network predict the next character. Then we take that character, pass it back in, and get another predicted character. Just keep doing this and you'll generate a bunch of text!\n",
    "\n",
    "### A note on the `predict`  function\n",
    "\n",
    "The output of our RNN is from a fully-connected layer and it outputs a **distribution of next-character scores**.\n",
    "\n",
    "> To actually get the next character, we apply a softmax function, which gives us a *probability* distribution that we can then sample to predict the next character.\n",
    "\n",
    "### Top K sampling\n",
    "\n",
    "Our predictions come from a categorical probability distribution over all the possible characters. We can make the sample text and make it more reasonable to handle (with less variables) by only considering some $K$ most probable characters. This will prevent the network from giving us completely absurd characters while allowing it to introduce some noise and randomness into the sampled text. Read more about [topk, here](https://pytorch.org/docs/stable/torch.html#torch.topk).\n"
   ]
  },
  {
   "cell_type": "code",
   "execution_count": 26,
   "metadata": {},
   "outputs": [],
   "source": [
    "def predict(net, char, h=None, top_k=None):\n",
    "        ''' Given a character, predict the next character.\n",
    "            Returns the predicted character and the hidden state.\n",
    "        '''\n",
    "        \n",
    "        # tensor inputs\n",
    "        x = np.array([[net.char2int[char]]])\n",
    "        x = one_hot_encode(x, len(net.chars))\n",
    "        inputs = torch.from_numpy(x)\n",
    "        \n",
    "        if(train_on_gpu):\n",
    "            inputs = inputs.cuda()\n",
    "        \n",
    "        # detach hidden state from history\n",
    "        h = tuple([each.data for each in h])\n",
    "        # get the output of the model\n",
    "        out, h = net(inputs, h)\n",
    "\n",
    "        # get the character probabilities\n",
    "        p = F.softmax(out, dim=1).data\n",
    "        if(train_on_gpu):\n",
    "            p = p.cpu() # move to cpu\n",
    "        \n",
    "        # get top characters\n",
    "        if top_k is None:\n",
    "            top_ch = np.arange(len(net.chars))\n",
    "        else:\n",
    "            p, top_ch = p.topk(top_k)\n",
    "            top_ch = top_ch.numpy().squeeze()\n",
    "        \n",
    "        # select the likely next character with some element of randomness\n",
    "        p = p.numpy().squeeze()\n",
    "        char = np.random.choice(top_ch, p=p/p.sum())\n",
    "        \n",
    "        # return the encoded value of the predicted char and the hidden state\n",
    "        return net.int2char[char], h"
   ]
  },
  {
   "cell_type": "markdown",
   "metadata": {},
   "source": [
    "### Priming and generating text \n",
    "\n",
    "Typically you'll want to prime the network so you can build up a hidden state. Otherwise the network will start out generating characters at random. In general the first bunch of characters will be a little rough since it hasn't built up a long history of characters to predict from."
   ]
  },
  {
   "cell_type": "code",
   "execution_count": 27,
   "metadata": {},
   "outputs": [],
   "source": [
    "def sample(net, size, prime='The', top_k=None):\n",
    "        \n",
    "    if(train_on_gpu):\n",
    "        net.cuda()\n",
    "    else:\n",
    "        net.cpu()\n",
    "    \n",
    "    net.eval() # eval mode\n",
    "    \n",
    "    # First off, run through the prime characters\n",
    "    chars = [ch for ch in prime]\n",
    "    h = net.init_hidden(1)\n",
    "    for ch in prime:\n",
    "        char, h = predict(net, ch, h, top_k=top_k)\n",
    "\n",
    "    chars.append(char)\n",
    "    \n",
    "    # Now pass in the previous character and get a new one\n",
    "    for ii in range(size):\n",
    "        char, h = predict(net, chars[-1], h, top_k=top_k)\n",
    "        chars.append(char)\n",
    "\n",
    "    return ''.join(chars)"
   ]
  },
  {
   "cell_type": "code",
   "execution_count": 28,
   "metadata": {},
   "outputs": [
    {
     "name": "stdout",
     "output_type": "stream",
     "text": [
      "Anna that which he was she had as the solleres, as though the cread and way, and at the\n",
      "pare of a frais of the\n",
      "worning home. \"You know the sense at a same.\n",
      "\n",
      "And the merning of a little and so the what he sat that he was to make the sorts where she had\n",
      "tried\n",
      "a mire to a shile, with the son and heard her, to the mosely, thinking at the simplate, and\n",
      "his\n",
      "for seemed have attuled, and\n",
      "strange of answer, and anywhing and tears as a mather, to have, she was a cloted with the words, with a can talk at the matther of the said of the contention. \"Now there's no will to mind that I should be not be the pleasion on the sare a muther, and step, the position is thing of a shalon as the conversation of her,\" said Stepan Arkedyevitch. \"I day to sure\n",
      "the corricious that I can't tell him.\n",
      "\n",
      "The presence to have a matior and have a cliffer in her and she was threeting talk to bare\n",
      "of his bard had not her.\n",
      "\n",
      "Time was nust of\n",
      "through and was\n",
      "answer and treemed to she was all the was and a child hand and at it wit\n"
     ]
    }
   ],
   "source": [
    "print(sample(net, 1000, prime='Anna', top_k=5))"
   ]
  },
  {
   "cell_type": "markdown",
   "metadata": {},
   "source": [
    "## Loading a checkpoint"
   ]
  },
  {
   "cell_type": "code",
   "execution_count": 29,
   "metadata": {},
   "outputs": [],
   "source": [
    "# Here we have loaded in a model that trained over 20 epochs `rnn_20_epoch.net`\n",
    "with open('rnn_x_epoch.net', 'rb') as f:\n",
    "    checkpoint = torch.load(f)\n",
    "    \n",
    "loaded = CharRNN(checkpoint['tokens'], n_hidden=checkpoint['n_hidden'], n_layers=checkpoint['n_layers'])\n",
    "loaded.load_state_dict(checkpoint['state_dict'])"
   ]
  },
  {
   "cell_type": "code",
   "execution_count": 30,
   "metadata": {},
   "outputs": [
    {
     "name": "stdout",
     "output_type": "stream",
     "text": [
      "And Levin said to shooted,\" said Stepan Arkadyevitch,\n",
      "seemed her heligus with whom had all his brother. This\n",
      "still would said what his seemed on his haster and him and was not began to she did nitul that her strange at the some one had been storged her hand, and her wife was almants of her hand to the prover to an offering and as though\n",
      "all hing of seculion, and heart the\n",
      "cande to herself the prover and well, who\n",
      "was something how that all at her head, and\n",
      "the place it to have the same of a fill a same heart his wife sermations, had been asked to the same of that time tring to him.\n",
      "\n",
      "\"There was the son't. That's a songer, when the priest as it's not be to him ablote,\" he\n",
      "said, and the\n",
      "mastar the part of sen and hough to bat on in\n",
      "this sincisation of her farteress the plice of what he saw to had been to to that a some, and\n",
      "had been she was not to some\n",
      "his hand of him, and what who was not the considered\n",
      "time.\n",
      "\n",
      "\"It hand to say, and I'm to see to be\n",
      "want horrial and all as simm of a matter.\"\n",
      "\n",
      "\"The lady. And sen an iffiticial simper. I send and start,\" said Vronsky, who was at\n",
      "her hands of happy with him. He was to him of\n",
      "the\n",
      "sore was there was a clook, sincing, talking his she had all her happant of a\n",
      "fore at anyore had becale the might sing to her hund to she with woman and\n",
      "have, but she had been starded to the seemed and an and so which she was not\n",
      "straighed.\n",
      "\n",
      "\"Wous I do you was sense\n",
      "of simply or than yes.\n",
      "\n",
      "And I say to be been to\n",
      "make a fact of him to see the might, shaming of soun would not\n",
      "astule,\" said Anna\n",
      "was than its were her as\n",
      "all the princess ourdering over. All the\n",
      "stright was so son through\n",
      "him and the cruse of their sick to her followed to have a marrial his from the some\n",
      "as she was an insition.\n",
      "\n",
      "\"The man, I same the\n",
      "man or though and hank that handed her,\" said She had not all the saye to the welling of him. Her sorting\n",
      "of share of the clight had there\n",
      "went on the presice.\n",
      "\n",
      "\"If you criace here it. It was nay a man,\" said Vronsky\n",
      "to\n",
      "the child, and would be to see this \n"
     ]
    }
   ],
   "source": [
    "# Sample using a loaded model\n",
    "print(sample(loaded, 2000, top_k=5, prime=\"And Levin said\"))"
   ]
  },
  {
   "cell_type": "code",
   "execution_count": null,
   "metadata": {
    "collapsed": true
   },
   "outputs": [],
   "source": []
  }
 ],
 "metadata": {
  "kernelspec": {
   "display_name": "Python 3",
   "language": "python",
   "name": "python3"
  },
  "language_info": {
   "codemirror_mode": {
    "name": "ipython",
    "version": 3
   },
   "file_extension": ".py",
   "mimetype": "text/x-python",
   "name": "python",
   "nbconvert_exporter": "python",
   "pygments_lexer": "ipython3",
   "version": "3.6.3"
  }
 },
 "nbformat": 4,
 "nbformat_minor": 2
}
